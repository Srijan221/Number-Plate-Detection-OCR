{
 "cells": [
  {
   "cell_type": "code",
   "execution_count": 1,
   "metadata": {},
   "outputs": [],
   "source": [
    "import cv2\n",
    "import numpy as np\n",
    "import matplotlib.pyplot as plt\n",
    "from local_utils import detect_lp\n",
    "from os.path import splitext,basename\n",
    "from keras.models import model_from_json\n",
    "import pytesseract\n",
    "import glob\n",
    "pytesseract.pytesseract.tesseract_cmd = r\"C:\\Program Files\\Tesseract-OCR\\tesseract.exe\"\n",
    "wpod_net_path = \"wpod-net.json\"\n",
    "from keras.preprocessing.image import ImageDataGenerator, load_img"
   ]
  },
  {
   "cell_type": "code",
   "execution_count": 2,
   "metadata": {},
   "outputs": [],
   "source": [
    "def load_model(path):\n",
    "    try:\n",
    "        path = splitext(path)[0]\n",
    "        with open('%s.json' % path, 'r') as json_file:\n",
    "            model_json = json_file.read()\n",
    "        model = model_from_json(model_json, custom_objects={})\n",
    "        model.load_weights('%s.h5' % path)\n",
    "        print(\"Loading model successfully...\")\n",
    "        return model\n",
    "    except Exception as e:\n",
    "        print(e)"
   ]
  },
  {
   "cell_type": "code",
   "execution_count": 3,
   "metadata": {},
   "outputs": [
    {
     "name": "stdout",
     "output_type": "stream",
     "text": [
      "Loading model successfully...\n"
     ]
    }
   ],
   "source": [
    "wpod_net = load_model(wpod_net_path)"
   ]
  },
  {
   "cell_type": "code",
   "execution_count": 6,
   "metadata": {},
   "outputs": [
    {
     "name": "stdout",
     "output_type": "stream",
     "text": [
      "Connecting to wss://anvil.works/uplink\n",
      "Anvil websocket open\n",
      "Connected to \"Default environment (dev)\" as SERVER\n"
     ]
    }
   ],
   "source": [
    "import anvil.server\n",
    "\n",
    "anvil.server.connect(\"S44CFBK7DAVUJDB6232MJQYF-RZNK4SZD7CYXKASZ\")\n"
   ]
  },
  {
   "cell_type": "code",
   "execution_count": 11,
   "metadata": {
    "scrolled": true
   },
   "outputs": [
    {
     "name": "stdout",
     "output_type": "stream",
     "text": [
      "Anvil websocket closed (code 1006, reason=Going away)\n",
      "Reconnecting Anvil Uplink...\n",
      "Connecting to wss://anvil.works/uplink\n",
      "Reconnection failed. Waiting 10 seconds, then retrying.\n",
      "Reconnecting Anvil Uplink...\n",
      "Connecting to wss://anvil.works/uplink\n",
      "Reconnection failed. Waiting 10 seconds, then retrying.\n",
      "Reconnecting Anvil Uplink...\n",
      "Connecting to wss://anvil.works/uplink\n",
      "Anvil websocket open\n",
      "Connected to \"Default environment (dev)\" as SERVER\n"
     ]
    },
    {
     "name": "stderr",
     "output_type": "stream",
     "text": [
      "Exception in thread Thread-172:\n",
      "Traceback (most recent call last):\n",
      "  File \"C:\\Users\\Srijan\\anaconda3\\lib\\site-packages\\anvil\\server.py\", line 306, in call\n",
      "    return _do_call(args, kwargs, fn_name=fn_name)\n",
      "  File \"C:\\Users\\Srijan\\anaconda3\\lib\\site-packages\\anvil\\server.py\", line 298, in _do_call\n",
      "    return _threaded_server.do_call(args, kwargs, fn_name=fn_name, live_object=live_object)\n",
      "  File \"C:\\Users\\Srijan\\anaconda3\\lib\\site-packages\\anvil\\_threaded_server.py\", line 403, in do_call\n",
      "    raise _server._deserialise_exception(r[\"error\"])\n",
      "anvil._server.AnvilWrappedError: 'Connection to Anvil Uplink server lost'\n",
      "\n",
      "During handling of the above exception, another exception occurred:\n",
      "\n",
      "Traceback (most recent call last):\n",
      "  File \"C:\\Users\\Srijan\\anaconda3\\lib\\threading.py\", line 932, in _bootstrap_inner\n",
      "    self.run()\n",
      "  File \"C:\\Users\\Srijan\\anaconda3\\lib\\threading.py\", line 870, in run\n",
      "    self._target(*self._args, **self._kwargs)\n",
      "  File \"C:\\Users\\Srijan\\anaconda3\\lib\\site-packages\\anvil\\server.py\", line 143, in heartbeat_until_reopened\n",
      "    call(\"anvil.private.echo\", \"keep-alive\")\n",
      "  File \"C:\\Users\\Srijan\\anaconda3\\lib\\site-packages\\anvil\\server.py\", line 309, in call\n",
      "    raise _server._deserialise_exception(e.error_obj)\n",
      "anvil._server.AnvilWrappedError: 'Connection to Anvil Uplink server lost'\n"
     ]
    },
    {
     "name": "stdout",
     "output_type": "stream",
     "text": [
      "Anvil websocket closed (code 1006, reason=Going away)\n",
      "Reconnecting Anvil Uplink...\n",
      "Connecting to wss://anvil.works/uplink\n",
      "Anvil websocket open\n",
      "Connected to \"Default environment (dev)\" as SERVER\n",
      "Anvil websocket closed (code 1006, reason=Going away)\n"
     ]
    },
    {
     "name": "stderr",
     "output_type": "stream",
     "text": [
      "Exception in thread Thread-175:\n",
      "Traceback (most recent call last):\n",
      "  File \"C:\\Users\\Srijan\\anaconda3\\lib\\threading.py\", line 932, in _bootstrap_inner\n",
      "    self.run()\n",
      "  File \"C:\\Users\\Srijan\\anaconda3\\lib\\threading.py\", line 870, in run\n",
      "    self._target(*self._args, **self._kwargs)\n",
      "  File \"C:\\Users\\Srijan\\anaconda3\\lib\\site-packages\\anvil\\server.py\", line 143, in heartbeat_until_reopened\n",
      "    call(\"anvil.private.echo\", \"keep-alive\")\n",
      "  File \"C:\\Users\\Srijan\\anaconda3\\lib\\site-packages\\anvil\\server.py\", line 306, in call\n",
      "    return _do_call(args, kwargs, fn_name=fn_name)\n",
      "  File \"C:\\Users\\Srijan\\anaconda3\\lib\\site-packages\\anvil\\server.py\", line 298, in _do_call\n",
      "    return _threaded_server.do_call(args, kwargs, fn_name=fn_name, live_object=live_object)\n",
      "  File \"C:\\Users\\Srijan\\anaconda3\\lib\\site-packages\\anvil\\_threaded_server.py\", line 358, in do_call\n",
      "    send_call()\n",
      "  File \"C:\\Users\\Srijan\\anaconda3\\lib\\site-packages\\anvil\\_threaded_server.py\", line 352, in send_call\n",
      "    send_reqresp(req, collect_capabilities=capabilities_for_update)\n",
      "  File \"C:\\Users\\Srijan\\anaconda3\\lib\\site-packages\\anvil\\server.py\", line 41, in <lambda>\n",
      "    _threaded_server.send_reqresp = lambda r, collect_capabilities=None: _get_connection().send_reqresp(r, collect_capabilities=collect_capabilities)\n",
      "  File \"C:\\Users\\Srijan\\anaconda3\\lib\\site-packages\\anvil\\server.py\", line 225, in send_reqresp\n",
      "    _serialise.serialise(reqresp, self.send_with_header, collect_capabilities=collect_capabilities)\n",
      "  File \"C:\\Users\\Srijan\\anaconda3\\lib\\site-packages\\anvil\\_serialise.py\", line 133, in serialise\n",
      "    do_send(reqresp)\n",
      "  File \"C:\\Users\\Srijan\\anaconda3\\lib\\site-packages\\anvil\\server.py\", line 215, in send_with_header\n",
      "    WebSocketClient.send(self, json.dumps(json_data), False)\n",
      "  File \"C:\\Users\\Srijan\\anaconda3\\lib\\site-packages\\ws4py\\websocket.py\", line 303, in send\n",
      "    self._write(m)\n",
      "  File \"C:\\Users\\Srijan\\anaconda3\\lib\\site-packages\\ws4py\\websocket.py\", line 285, in _write\n",
      "    self.sock.sendall(b)\n",
      "  File \"C:\\Users\\Srijan\\anaconda3\\lib\\ssl.py\", line 1204, in sendall\n",
      "    v = self.send(byte_view[count:])\n",
      "  File \"C:\\Users\\Srijan\\anaconda3\\lib\\ssl.py\", line 1173, in send\n",
      "    return self._sslobj.write(data)\n",
      "ConnectionResetError: [WinError 10054] An existing connection was forcibly closed by the remote host\n"
     ]
    },
    {
     "name": "stdout",
     "output_type": "stream",
     "text": [
      "Reconnecting Anvil Uplink...\n",
      "Connecting to wss://anvil.works/uplink\n",
      "Reconnection failed. Waiting 10 seconds, then retrying.\n",
      "Reconnecting Anvil Uplink...\n",
      "Connecting to wss://anvil.works/uplink\n",
      "Anvil websocket open\n",
      "Connected to \"Default environment (dev)\" as SERVER\n"
     ]
    }
   ],
   "source": [
    "import anvil.media\n",
    "@anvil.server.callable\n",
    "def imagetotext(file):\n",
    "    with anvil.media.TempFile(file) as filename:\n",
    "        img = load_img(filename)\n",
    "    image = np.array(img)\n",
    "    img = cv2.cvtColor(image,cv2.COLOR_BGR2RGB)\n",
    "    img = img / 255\n",
    "    img = cv2.resize(img, (224,224))\n",
    "    Dmax=608\n",
    "    Dmin=256\n",
    "    ratio = float(max(img.shape[:2])) / min(img.shape[:2])\n",
    "    side = int(ratio * Dmin)\n",
    "    bound_dim = min(side, Dmax)\n",
    "    _ , LpImg, _, cor = detect_lp(wpod_net, img, bound_dim, lp_threshold=0.5)\n",
    "    image1 = LpImg[0]\n",
    "    img_n = cv2.normalize(src=image1, dst=None, alpha=0, beta=255, norm_type=cv2.NORM_MINMAX, dtype=cv2.CV_8U)\n",
    "    img_n = cv2.cvtColor(img_n, cv2.COLOR_BGR2RGB)\n",
    "    text = pytesseract.image_to_string(img_n)\n",
    "    return (text)"
   ]
  },
  {
   "cell_type": "code",
   "execution_count": null,
   "metadata": {},
   "outputs": [],
   "source": []
  }
 ],
 "metadata": {
  "kernelspec": {
   "display_name": "Python 3",
   "language": "python",
   "name": "python3"
  },
  "language_info": {
   "codemirror_mode": {
    "name": "ipython",
    "version": 3
   },
   "file_extension": ".py",
   "mimetype": "text/x-python",
   "name": "python",
   "nbconvert_exporter": "python",
   "pygments_lexer": "ipython3",
   "version": "3.8.3"
  }
 },
 "nbformat": 4,
 "nbformat_minor": 4
}
